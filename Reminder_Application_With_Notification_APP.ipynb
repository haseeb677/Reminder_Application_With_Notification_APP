{
 "cells": [
  {
   "cell_type": "code",
   "execution_count": null,
   "id": "02ce75c8-6c04-4da8-8de8-40c7efd951c4",
   "metadata": {},
   "outputs": [
    {
     "name": "stdout",
     "output_type": "stream",
     "text": [
      "Welcome to the Reminder Application!\n"
     ]
    },
    {
     "name": "stdin",
     "output_type": "stream",
     "text": [
      "Enter the time in seconds after which you want to be reminded:  2\n",
      "Enter the reminder message:  please drink water!\n"
     ]
    },
    {
     "name": "stdout",
     "output_type": "stream",
     "text": [
      "Reminder set!\n"
     ]
    },
    {
     "name": "stdin",
     "output_type": "stream",
     "text": [
      "Do you want to set another reminder? (y/n):  y\n",
      "Enter the time in seconds after which you want to be reminded:  1\n",
      "Enter the reminder message:  Please sleep and awake early!\n"
     ]
    },
    {
     "name": "stdout",
     "output_type": "stream",
     "text": [
      "Reminder set!\n"
     ]
    }
   ],
   "source": [
    "import time\n",
    "import threading\n",
    "from plyer import notification\n",
    "\n",
    "class Reminder:\n",
    "    def __init__(self, message, delay):\n",
    "        self.message = message\n",
    "        self.delay = delay\n",
    "\n",
    "    def remind(self):\n",
    "        time.sleep(self.delay)\n",
    "        notification.notify(\n",
    "            title='Reminder',\n",
    "            message=self.message,\n",
    "            timeout=10  # duration the notification stays on the screen\n",
    "        )\n",
    "\n",
    "def set_reminder():\n",
    "    try:\n",
    "        delay = int(input(\"Enter the time in seconds after which you want to be reminded: \"))\n",
    "        message = input(\"Enter the reminder message: \")\n",
    "        reminder = Reminder(message, delay)\n",
    "        threading.Thread(target=reminder.remind).start()\n",
    "        print(\"Reminder set!\")\n",
    "    except ValueError:\n",
    "        print(\"Invalid input. Please enter a valid number for the time.\")\n",
    "\n",
    "def main():\n",
    "    print(\"Welcome to the Reminder Application!\")\n",
    "    while True:\n",
    "        set_reminder()\n",
    "        another = input(\"Do you want to set another reminder? (y/n): \")\n",
    "        if another.lower() != 'y':\n",
    "            print(\"Thanks for using the Reminder Application!\")\n",
    "            break\n",
    "\n",
    "if __name__ == \"__main__\":\n",
    "    main()\n"
   ]
  }
 ],
 "metadata": {
  "kernelspec": {
   "display_name": "Python 3 (ipykernel)",
   "language": "python",
   "name": "python3"
  },
  "language_info": {
   "codemirror_mode": {
    "name": "ipython",
    "version": 3
   },
   "file_extension": ".py",
   "mimetype": "text/x-python",
   "name": "python",
   "nbconvert_exporter": "python",
   "pygments_lexer": "ipython3",
   "version": "3.12.2"
  }
 },
 "nbformat": 4,
 "nbformat_minor": 5
}
